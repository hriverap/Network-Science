{
 "cells": [
  {
   "cell_type": "markdown",
   "metadata": {},
   "source": [
    "# Tarea 1: Generación  de Redes y sus Propiedades\n",
    "## Cristian Candia-Castro Vallejos $^{1,2}$\n",
    "[1] Centro de Investigación en Complejidad Social, Universidad del Desarrollo, Santiago, Chile.\n",
    "\n",
    "[2] Collective Learning Group, MIT Media Lab, Cambridge, Massachusetts, USA\n",
    "#### Noviembre 2018"
   ]
  },
  {
   "cell_type": "markdown",
   "metadata": {},
   "source": [
    "## Indicaciones\n",
    "La fecha de entrega de la tarea es el día lunes 10 de diciembre via emial crcandiav@gmail.com. Deben adjuntar el código (recomendado, pero no excluyente, usar IPython Notebook), y las respuestas de las siguientes secciones."
   ]
  },
  {
   "cell_type": "markdown",
   "metadata": {},
   "source": [
    "## Paquetes útiles"
   ]
  },
  {
   "cell_type": "markdown",
   "metadata": {},
   "source": [
    "El paquete NetworkX provee [funciones para generar redes bajo diferentes modelos](https://networkx.github.io/documentation/networkx-1.10/reference/generators.html), tales como Erdos-Renyi, Watts-Strogratz y Barabasi-Albert."
   ]
  },
  {
   "cell_type": "code",
   "execution_count": null,
   "metadata": {},
   "outputs": [],
   "source": [
    "import numpy as np\n",
    "import networkx as nx\n",
    "import matplotlib.pyplot as plt\n",
    "import matplotlib as mpl\n",
    "%matplotlib inline"
   ]
  },
  {
   "cell_type": "markdown",
   "metadata": {},
   "source": [
    "## Ejercicio 1"
   ]
  },
  {
   "cell_type": "markdown",
   "metadata": {},
   "source": [
    "Genere el una red Watts-Strogatz y calcule el coeficiente de clustering, la longitud del camino medio, ambos, en función de la probabilidad de recableado $p$. Use $N = 1000$ nodos y grado promedio de $<k>=10$. El resultado debería verse similar a la figura 2 del artiículo [Collective dynamics of\n",
    "‘small-world’ networks](http://www.nature.com/nature/journal/v393/n6684/abs/393440a0.html)"
   ]
  },
  {
   "cell_type": "markdown",
   "metadata": {},
   "source": [
    "### Tips para el ejercicio 1"
   ]
  },
  {
   "cell_type": "markdown",
   "metadata": {},
   "source": [
    "Puedes crear un objeto networkx Graph que contiene la red [Watts-Strogatz](https://networkx.github.io/documentation/networkx-1.10/reference/generated/networkx.generators.random_graphs.watts_strogatz_graph.html#networkx.generators.random_graphs.watts_strogatz_graph) con $N=100$ nodos, grado promedio $<k>=5$, y propabilidad de reclabeado $p=0.5$ usando:"
   ]
  },
  {
   "cell_type": "code",
   "execution_count": null,
   "metadata": {},
   "outputs": [],
   "source": [
    "G = nx.watts_strogatz_graph(100, 5, 0.5)"
   ]
  },
  {
   "cell_type": "markdown",
   "metadata": {},
   "source": [
    "### Escribe tu código acá\n",
    "##### (Puedes agragar mas celdas)"
   ]
  },
  {
   "cell_type": "code",
   "execution_count": null,
   "metadata": {},
   "outputs": [],
   "source": []
  },
  {
   "cell_type": "markdown",
   "metadata": {},
   "source": [
    "### ¿Qué puedes concluir de esta gráfica? \n",
    "(Tip: recuerda que sucede al aumentar la aleatoriedad de una red para el coeficiente de clustering y la longitud de camino)\n",
    "#### Escribe tu respuesta acá\n"
   ]
  },
  {
   "cell_type": "markdown",
   "metadata": {},
   "source": []
  },
  {
   "cell_type": "markdown",
   "metadata": {},
   "source": [
    "## Ejercicio 2"
   ]
  },
  {
   "cell_type": "markdown",
   "metadata": {},
   "source": [
    "Plotea la función de distribución de grados $k$, la distribución de caminos mas cortos $L$ (recuerda que este algoritmo es lento) y el coeficiente de clustering v/s el grado de nodo $c(k)$ para las siguientes redes aleatorias (Watts-Strogatz):"
   ]
  },
  {
   "cell_type": "markdown",
   "metadata": {},
   "source": [
    "1) $N=100$ nodos, p=0.6 y $<k>$=80\n"
   ]
  },
  {
   "cell_type": "markdown",
   "metadata": {},
   "source": [
    "2) $N=1000$ nodos, p=0.6 y $<k>$=80"
   ]
  },
  {
   "cell_type": "markdown",
   "metadata": {},
   "source": [
    "3) $N=10000$ nodos, p=0.6 y $<k>$=80"
   ]
  },
  {
   "cell_type": "markdown",
   "metadata": {},
   "source": [
    "4) $N=100000$ nodos, p=0.6 y $<k>$=80"
   ]
  },
  {
   "cell_type": "markdown",
   "metadata": {},
   "source": [
    "### Tips para el ejercicio 2"
   ]
  },
  {
   "cell_type": "code",
   "execution_count": null,
   "metadata": {},
   "outputs": [],
   "source": [
    "#Si G1 es un elemento Networkx graph:\n",
    "\n",
    "dict(G1.degree())# Diccionario con el grado de cada nodo de la red G1\n",
    "dict(nx.all_pairs_shortest_path_length(G1)) #Diccionario con los caminos mas cortos entre todos los nodos de la red G1\n",
    "dict(nx.clustering(G1)) #Diccionario con el coeficiente de clustering para cada nodo de la red G1"
   ]
  },
  {
   "cell_type": "markdown",
   "metadata": {},
   "source": [
    "### Escribe tu código acá\n",
    "##### (Puedes agragar mas celdas)"
   ]
  },
  {
   "cell_type": "code",
   "execution_count": null,
   "metadata": {},
   "outputs": [],
   "source": []
  },
  {
   "cell_type": "markdown",
   "metadata": {},
   "source": [
    "### ¿Qué puedes concluir sobre la distribución de grados para distintos tamaños de $N$? \n",
    "(Tip: recuerda lo que ocurre para redes con pocos nodos)\n",
    "\n",
    "Escribe tu respuesta acá\n"
   ]
  },
  {
   "cell_type": "markdown",
   "metadata": {},
   "source": [
    "### ¿Cuál es el grado máximo y mínimo en cada red aleatoria? \n",
    "\n",
    "Escribe tu respuesta acá\n"
   ]
  },
  {
   "cell_type": "markdown",
   "metadata": {},
   "source": [
    "### Comente  acerca de las consecuencias de la distribución de nodos con respecto a los hubs.\n",
    "\n",
    "Escribe tu respuesta acá"
   ]
  },
  {
   "cell_type": "markdown",
   "metadata": {},
   "source": [
    "### ¿Qué puedes concluir sobre la distribución de distancias para distintos tamaños de $N$? \n",
    "\n",
    "Escribe tu respuesta acá"
   ]
  },
  {
   "cell_type": "markdown",
   "metadata": {},
   "source": [
    "### ¿Cuál es la distancia promedio para cada red?  Comente sobre la propiedad small world\n",
    "\n",
    "Tip: Grafique $<d>$ v/s N\n",
    "\n",
    "Escribe tu respuesta acá"
   ]
  },
  {
   "cell_type": "markdown",
   "metadata": {},
   "source": [
    "### Calcule el coeficiente de clustering promedio para cada una de las redes aleatorias. Comente como cambia el coeficiente de clustering con el grado del nodo.\n",
    "\n",
    "Escribe tu respuesta acá"
   ]
  },
  {
   "cell_type": "markdown",
   "metadata": {},
   "source": [
    "### Grafique cómo varía el coeficiente de clustering con el tamaño de la red (C v/s N). Comente.\n",
    "\n",
    "Escribe tu respuesta acá"
   ]
  },
  {
   "cell_type": "markdown",
   "metadata": {},
   "source": [
    "## Ejercicio 3"
   ]
  },
  {
   "cell_type": "markdown",
   "metadata": {},
   "source": [
    "Grafique la distribución de grados para una red Barabasi-Albert y ajuste la ley de potencia [(como se explicó en clases)](https://pypi.org/project/powerlaw/) . Use el paquete:"
   ]
  },
  {
   "cell_type": "code",
   "execution_count": null,
   "metadata": {},
   "outputs": [],
   "source": [
    "#pip install powerlaw"
   ]
  },
  {
   "cell_type": "markdown",
   "metadata": {},
   "source": [
    "### Tips para el ejercicio 3"
   ]
  },
  {
   "cell_type": "markdown",
   "metadata": {},
   "source": [
    "(Tiene que ser una ley de potencia)\n",
    "\n",
    "La red de [Barabasi-Albert (Science Magazine)](http://science.sciencemag.org/content/286/5439/509) tiene dos parametros: $m_0$ (nuúmero de nodos incial), y $m$ (número de enlaces de un nuevo nodo a conectar a uno existente).\n",
    "\n",
    "Puedes crear un objeto networkx Graph que contiene la red [Barabasi-Albert (Wikipedia)](https://es.wikipedia.org/wiki/Modelo_Barab%C3%A1si%E2%80%93Albert) con $m_0=10000$ nodos iniciales y una cantidad de $m=5$ nuevos enlaces usando:"
   ]
  },
  {
   "cell_type": "code",
   "execution_count": null,
   "metadata": {},
   "outputs": [],
   "source": [
    "ba = nx.barabasi_albert_graph(10000, 5, seed = None) "
   ]
  },
  {
   "cell_type": "markdown",
   "metadata": {
    "collapsed": true
   },
   "source": [
    "### Escribe tu código acá"
   ]
  },
  {
   "cell_type": "code",
   "execution_count": null,
   "metadata": {},
   "outputs": [],
   "source": []
  },
  {
   "cell_type": "markdown",
   "metadata": {},
   "source": [
    "### Comenta sobre las diferencias entre las redes aleatorias y las redes libre de escala (por ejemplo, Barabasi-Albert).\n",
    "Recuerda lo visto en clases (hubs, coeficiente de clustering, longitud de caminos, distribución de grados, etc.)"
   ]
  },
  {
   "cell_type": "markdown",
   "metadata": {},
   "source": [
    "### Escribe tu respuesta acá"
   ]
  }
 ],
 "metadata": {
  "kernelspec": {
   "display_name": "Python 2",
   "language": "python",
   "name": "python2"
  },
  "language_info": {
   "codemirror_mode": {
    "name": "ipython",
    "version": 2
   },
   "file_extension": ".py",
   "mimetype": "text/x-python",
   "name": "python",
   "nbconvert_exporter": "python",
   "pygments_lexer": "ipython2",
   "version": "2.7.15"
  }
 },
 "nbformat": 4,
 "nbformat_minor": 1
}
