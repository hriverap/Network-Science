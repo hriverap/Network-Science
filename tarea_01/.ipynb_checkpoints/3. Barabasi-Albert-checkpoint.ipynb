{
 "cells": [
  {
   "cell_type": "markdown",
   "metadata": {},
   "source": [
    "# Network science\n",
    "### Magister en Data Science\n",
    "\n",
    "#### Instituto Data Science, Universidad del Desarrollo\n",
    "\n",
    "By Hernan Rivera \n",
    "\n",
    "* Basado en los notebooks del Profesor: PhD. Cristian Candia-Castro Vallejos."
   ]
  },
  {
   "cell_type": "markdown",
   "metadata": {},
   "source": [
    "### Barabasi-Albert y ajuste la ley de potencia"
   ]
  },
  {
   "cell_type": "code",
   "execution_count": 7,
   "metadata": {},
   "outputs": [],
   "source": [
    "import numpy as np\n",
    "import pandas as pd\n",
    "import collections \n",
    "import networkx as nx\n",
    "import matplotlib.pyplot as plt\n",
    "import matplotlib as mpl\n",
    "import powerlaw"
   ]
  },
  {
   "cell_type": "code",
   "execution_count": 2,
   "metadata": {},
   "outputs": [],
   "source": [
    "%matplotlib inline"
   ]
  },
  {
   "cell_type": "markdown",
   "metadata": {},
   "source": [
    "#### Distribucion de grados"
   ]
  },
  {
   "cell_type": "code",
   "execution_count": 3,
   "metadata": {},
   "outputs": [],
   "source": [
    "ba = nx.barabasi_albert_graph(10000, 5, seed = None) "
   ]
  },
  {
   "cell_type": "code",
   "execution_count": 4,
   "metadata": {},
   "outputs": [],
   "source": [
    "N = len(ba)\n",
    "L = ba.size()\n",
    "degrees = list(dict(ba.degree()).values())\n",
    "kmin = min(degrees)\n",
    "kmax = max(degrees)"
   ]
  },
  {
   "cell_type": "code",
   "execution_count": 5,
   "metadata": {},
   "outputs": [],
   "source": [
    "# Entrega 20 bins linealmente espaceados entre kmin y kmax\n",
    "bin_edges = np.linspace(kmin, kmax, num=50)\n",
    "\n",
    "# histograma de la data en estos bines \n",
    "density, _ = np.histogram(degrees, bins=bin_edges, density=True)"
   ]
  },
  {
   "cell_type": "code",
   "execution_count": 6,
   "metadata": {},
   "outputs": [
    {
     "data": {
      "image/png": "[encoded data removed]",
      "text/plain": [
       "<matplotlib.figure.Figure at 0x1514e955f8>"
      ]
     },
     "metadata": {},
     "output_type": "display_data"
    }
   ],
   "source": [
    "fig = plt.figure(figsize=(6,4))\n",
    "\n",
    "# \"x\" debería ser el punto meido (en escala lineal) de cada bin\n",
    "log_be = np.log10(bin_edges)\n",
    "x = 10**((log_be[1:] + log_be[:-1])/2)\n",
    "\n",
    "plt.plot(x, density, marker='o', linestyle='-')\n",
    "plt.xlabel(r\"degree $k$\", fontsize=16)\n",
    "plt.ylabel(r\"$P(k)$\", fontsize=16)\n",
    "\n",
    "\n",
    "# Muestra la gráfica\n",
    "plt.show()"
   ]
  },
  {
   "cell_type": "markdown",
   "metadata": {},
   "source": [
    "#### Ajsute con la ley de potencia"
   ]
  },
  {
   "cell_type": "code",
   "execution_count": 8,
   "metadata": {},
   "outputs": [
    {
     "name": "stderr",
     "output_type": "stream",
     "text": [
      "/anaconda3/lib/python3.6/site-packages/powerlaw.py:700: RuntimeWarning: invalid value encountered in true_divide\n",
      "  (Theoretical_CDF * (1 - Theoretical_CDF))\n"
     ]
    },
    {
     "data": {
      "text/plain": [
       "<matplotlib.axes._subplots.AxesSubplot at 0x151dbe1d68>"
      ]
     },
     "execution_count": 8,
     "metadata": {},
     "output_type": "execute_result"
    },
    {
     "data": {
      "image/png": "[encoded data removed]",
      "text/plain": [
       "<matplotlib.figure.Figure at 0x10cfa3438>"
      ]
     },
     "metadata": {},
     "output_type": "display_data"
    }
   ],
   "source": [
    "fit = powerlaw.Fit(np.array(density) + 1, xmin=1, discrete=True)\n",
    "fit.power_law.plot_pdf(color='b', linestyle='--', label='fit ccdf')\n",
    "fit.plot_pdf(color= 'b')"
   ]
  },
  {
   "cell_type": "code",
   "execution_count": null,
   "metadata": {},
   "outputs": [],
   "source": []
  }
 ],
 "metadata": {
  "kernelspec": {
   "display_name": "Python 3",
   "language": "python",
   "name": "python3"
  },
  "language_info": {
   "codemirror_mode": {
    "name": "ipython",
    "version": 3
   },
   "file_extension": ".py",
   "mimetype": "text/x-python",
   "name": "python",
   "nbconvert_exporter": "python",
   "pygments_lexer": "ipython3",
   "version": "3.6.4"
  }
 },
 "nbformat": 4,
 "nbformat_minor": 2
}
